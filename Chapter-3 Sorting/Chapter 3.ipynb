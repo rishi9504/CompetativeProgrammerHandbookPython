{
 "cells": [
  {
   "cell_type": "code",
   "execution_count": 1,
   "metadata": {},
   "outputs": [],
   "source": [
    "# Sorting is a fundamental algorithm design problem. Many efficient algorithms\n",
    "# use sorting as a subroutine, because it is often easier to process data if the\n",
    "# elements are in a sorted order.\n",
    "# For example, the problem ”does an array contain two equal elements?” is easy\n",
    "# to solve using sorting. If the array contains two equal elements, they will be next\n",
    "# to each other after sorting, so it is easy to find them. Also, the problem ”what is\n",
    "# the most frequent element in an array?” can be solved similarly.\n",
    "# There are many algorithms for sorting, and they are also good examples of\n",
    "# how to apply different algorithm design techniques. The efficient general sorting\n",
    "# algorithms work in O(nlogn) time, and many algorithms that use sorting as a\n",
    "# subroutine also have this time complexity."
   ]
  },
  {
   "cell_type": "code",
   "execution_count": 2,
   "metadata": {},
   "outputs": [
    {
     "name": "stdout",
     "output_type": "stream",
     "text": [
      "[1, 2, 2, 3, 5, 6, 8, 9]\n"
     ]
    }
   ],
   "source": [
    "# Bubble Sort O(n^2)\n",
    "arr = [1, 3, 8, 2, 9, 2, 5, 6]\n",
    "for i, j in enumerate(arr):\n",
    "    for a, b in enumerate(arr[:-1]):\n",
    "        if arr[a] > arr[a + 1]:\n",
    "            arr[a], arr[a + 1] = arr[a + 1], arr[a]\n",
    "print(arr)"
   ]
  },
  {
   "cell_type": "code",
   "execution_count": 5,
   "metadata": {},
   "outputs": [
    {
     "name": "stdout",
     "output_type": "stream",
     "text": [
      "12 11 13 5 6 7  \n",
      "5 6 7 11 12 13 "
     ]
    }
   ],
   "source": [
    "# Python program for implementation of MergeSort\n",
    "\n",
    "# Merges two subarrays of arr[].\n",
    "# First subarray is arr[l..m]\n",
    "# Second subarray is arr[m+1..r]\n",
    "\n",
    "\n",
    "def merge(arr, l, m, r):\n",
    "\tn1 = m - l + 1\n",
    "\tn2 = r - m\n",
    "\n",
    "\t# create temp arrays\n",
    "\tL = [0] * (n1)\n",
    "\tR = [0] * (n2)\n",
    "\n",
    "\t# Copy data to temp arrays L[] and R[]\n",
    "\tfor i in range(0, n1):\n",
    "\t\tL[i] = arr[l + i]\n",
    "\n",
    "\tfor j in range(0, n2):\n",
    "\t\tR[j] = arr[m + 1 + j]\n",
    "\n",
    "\t# Merge the temp arrays back into arr[l..r]\n",
    "\ti = 0\t # Initial index of first subarray\n",
    "\tj = 0\t # Initial index of second subarray\n",
    "\tk = l\t # Initial index of merged subarray\n",
    "\n",
    "\twhile i < n1 and j < n2:\n",
    "\t\tif L[i] <= R[j]:\n",
    "\t\t\tarr[k] = L[i]\n",
    "\t\t\ti += 1\n",
    "\t\telse:\n",
    "\t\t\tarr[k] = R[j]\n",
    "\t\t\tj += 1\n",
    "\t\tk += 1\n",
    "\n",
    "\t# Copy the remaining elements of L[], if there\n",
    "\t# are any\n",
    "\twhile i < n1:\n",
    "\t\tarr[k] = L[i]\n",
    "\t\ti += 1\n",
    "\t\tk += 1\n",
    "\n",
    "\t# Copy the remaining elements of R[], if there\n",
    "\t# are any\n",
    "\twhile j < n2:\n",
    "\t\tarr[k] = R[j]\n",
    "\t\tj += 1\n",
    "\t\tk += 1\n",
    "\n",
    "# l is for left index and r is right index of the\n",
    "# sub-array of arr to be sorted\n",
    "\n",
    "\n",
    "def mergeSort(arr, l, r):\n",
    "\tif l < r:\n",
    "\n",
    "\t\t# Same as (l+r)//2, but avoids overflow for\n",
    "\t\t# large l and h\n",
    "\t\tm = l+(r-l)//2\n",
    "\n",
    "\t\t# Sort first and second halves\n",
    "\t\tmergeSort(arr, l, m)\n",
    "\t\tmergeSort(arr, m+1, r)\n",
    "\t\tmerge(arr, l, m, r)\n",
    "\n",
    "\n",
    "# Driver code to test above\n",
    "arr = [12, 11, 13, 5, 6, 7]\n",
    "n = len(arr)\n",
    "for i in range(n):\n",
    "\tprint(\"%d\" % arr[i],end=\" \")\n",
    "\n",
    "mergeSort(arr, 0, n-1)\n",
    "print (\" \")\n",
    "for i in range(n):\n",
    "\tprint(\"%d\" % arr[i],end=\" \")\n",
    "\n",
    "\n"
   ]
  },
  {
   "cell_type": "code",
   "execution_count": 7,
   "metadata": {},
   "outputs": [
    {
     "name": "stdout",
     "output_type": "stream",
     "text": [
      "[1, 2, 2, 3, 5, 6, 8, 9] [1, 3, 8, 2, 9, 2, 5, 6]\n"
     ]
    }
   ],
   "source": [
    "# Sorting functions in Python\n",
    "arr = [1, 3, 8, 2, 9, 2, 5, 6]\n",
    "print(sorted(arr), arr)\n"
   ]
  },
  {
   "cell_type": "code",
   "execution_count": 8,
   "metadata": {},
   "outputs": [
    {
     "name": "stdout",
     "output_type": "stream",
     "text": [
      "7\n",
      "4\n",
      "3\n"
     ]
    }
   ],
   "source": [
    "# Binary Search\n",
    "arr = [1, 2, 2, 3, 5, 6, 8, 9]\n",
    "\n",
    "\n",
    "def binary_search(arr, elem, prim_index=0):\n",
    "    mid = int(len(arr) / 2)\n",
    "    mid_elem = arr[mid]\n",
    "    if mid_elem == elem:\n",
    "        return mid + prim_index\n",
    "    if mid_elem > elem:\n",
    "        return binary_search(arr[:mid], elem, prim_index)\n",
    "    if mid_elem < elem:\n",
    "        return binary_search(arr[mid:], elem, prim_index + mid)\n",
    "\n",
    "\n",
    "print(binary_search(arr, 9))\n",
    "print(binary_search(arr, 5))\n",
    "print(binary_search(arr, 3))"
   ]
  },
  {
   "cell_type": "code",
   "execution_count": null,
   "metadata": {},
   "outputs": [],
   "source": []
  }
 ],
 "metadata": {
  "kernelspec": {
   "display_name": "Python 3",
   "language": "python",
   "name": "python3"
  },
  "language_info": {
   "codemirror_mode": {
    "name": "ipython",
    "version": 3
   },
   "file_extension": ".py",
   "mimetype": "text/x-python",
   "name": "python",
   "nbconvert_exporter": "python",
   "pygments_lexer": "ipython3",
   "version": "3.6.4"
  }
 },
 "nbformat": 4,
 "nbformat_minor": 2
}
