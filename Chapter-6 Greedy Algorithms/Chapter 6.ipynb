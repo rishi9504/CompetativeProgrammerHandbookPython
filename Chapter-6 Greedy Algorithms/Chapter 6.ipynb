{
 "cells": [
  {
   "cell_type": "code",
   "execution_count": 1,
   "metadata": {},
   "outputs": [],
   "source": [
    "# A greedy algorithm constructs a solution to the problem by always making a\n",
    "# choice that looks the best at the moment. A greedy algorithm never takes back\n",
    "# its choices, but directly constructs the final solution. For this reason, greedy\n",
    "# algorithms are usually very efficient.\n",
    "# The difficulty in designing greedy algorithms is to find a greedy strategy that\n",
    "# always produces an optimal solution to the problem. The locally optimal choices\n",
    "# in a greedy algorithm should also be globally optimal. It is often difficult to argue\n",
    "# that a greedy algorithm works.\n"
   ]
  },
  {
   "cell_type": "code",
   "execution_count": 3,
   "metadata": {},
   "outputs": [
    {
     "name": "stdout",
     "output_type": "stream",
     "text": [
      "Following is minimal number of change for 120 : 100 20 "
     ]
    }
   ],
   "source": [
    "# Coin change Problem\n",
    "# Given a value of V Rs and an infinite supply of each of the denominations\n",
    "# {1, 2, 5, 10, 20, 50, 100, 500, 1000} valued coins/notes3\n",
    "# The task is to find the minimum number of coins and/or notes needed to make the change?\n",
    "\n",
    "# Python3 program to find minimum\n",
    "# number of denominations\n",
    "\n",
    "def findMin(V):\n",
    "\t\n",
    "\t# All denominations of Indian Currency\n",
    "\tdeno = [1, 2, 5, 10, 20, 50,\n",
    "\t\t\t100, 500, 1000]\n",
    "\tn = len(deno)\n",
    "\t\n",
    "\t# Initialize Result\n",
    "\tans = []\n",
    "\n",
    "\t# Traverse through all denomination\n",
    "\ti = n - 1\n",
    "\twhile(i >= 0):\n",
    "\t\t\n",
    "\t\t# Find denominations\n",
    "\t\twhile (V >= deno[i]):\n",
    "\t\t\tV -= deno[i]\n",
    "\t\t\tans.append(deno[i])\n",
    "\n",
    "\t\ti -= 1\n",
    "\n",
    "\t# Print result\n",
    "\tfor i in range(len(ans)):\n",
    "\t\tprint(ans[i], end = \" \")\n",
    "\n",
    "# Driver Code\n",
    "if __name__ == '__main__':\n",
    "\tn = 120\n",
    "\tprint(\"Following is minimal number\",\n",
    "\t\t\"of change for\", n, \": \", end = \"\")\n",
    "\tfindMin(n)\n"
   ]
  },
  {
   "cell_type": "code",
   "execution_count": 4,
   "metadata": {},
   "outputs": [
    {
     "name": "stdout",
     "output_type": "stream",
     "text": [
      "Maximum Events Schedule:\n",
      "Start time: 1 | End time: 4\n",
      "Start time: 5 | End time: 7\n",
      "Start time: 8 | End time: 11\n",
      "Start time: 12 | End time: 14\n"
     ]
    }
   ],
   "source": [
    "# Given n events with their starting and ending times, find a\n",
    "# schedule that includes as many events as possible. using python\n",
    "\n",
    "# To find a schedule that includes as many events as possible, \n",
    "# you can use the greedy algorithm approach.Python implementation:\n",
    "\n",
    "def find_maximum_events(events):\n",
    "    # Sort the events by their ending times\n",
    "    sorted_events = sorted(events, key=lambda x: x[1])\n",
    "    \n",
    "    schedule = []\n",
    "    end_time = float('-inf')\n",
    "    \n",
    "    for event in sorted_events:\n",
    "        start_time, finish_time = event\n",
    "        if start_time >= end_time:\n",
    "            # Add the event to the schedule\n",
    "            schedule.append(event)\n",
    "            end_time = finish_time\n",
    "    \n",
    "    return schedule\n",
    "\n",
    "\n",
    "# Example usage\n",
    "events = [(1, 4), (3, 5), (0, 6), (5, 7), (3, 8), (5, 9), (6, 10), (8, 11), (8, 12), (2, 13), (12, 14)]\n",
    "schedule = find_maximum_events(events)\n",
    "\n",
    "print(\"Maximum Events Schedule:\")\n",
    "for event in schedule:\n",
    "    print(\"Start time:\", event[0], \"| End time:\", event[1])\n"
   ]
  },
  {
   "cell_type": "code",
   "execution_count": null,
   "metadata": {},
   "outputs": [],
   "source": [
    "# Huffman coding\n",
    "# is a greedy algorithm that constructs an optimal code for\n",
    "# compressing a given string. The algorithm builds a binary tree based on the\n",
    "# frequencies of the characters in the string, and each character’s codeword can be\n",
    "# read by following a path from the root to the corresponding node. A move to the\n",
    "# left corresponds to bit 0, and a move to the right corresponds to bit 1.\n",
    "# Initially, each character of the string is represented by a node whose weight\n",
    "# is the number of times the character occurs in the string. Then at each step two\n",
    "# nodes with minimum weights are combined by creating a new node whose weight\n",
    "# is the sum of the weights of the original nodes. The process continues until all\n",
    "# nodes have been combined."
   ]
  }
 ],
 "metadata": {
  "kernelspec": {
   "display_name": "Python 3",
   "language": "python",
   "name": "python3"
  },
  "language_info": {
   "codemirror_mode": {
    "name": "ipython",
    "version": 3
   },
   "file_extension": ".py",
   "mimetype": "text/x-python",
   "name": "python",
   "nbconvert_exporter": "python",
   "pygments_lexer": "ipython3",
   "version": "3.6.4"
  }
 },
 "nbformat": 4,
 "nbformat_minor": 2
}
