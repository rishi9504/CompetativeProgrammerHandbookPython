{
 "cells": [
  {
   "cell_type": "code",
   "execution_count": 1,
   "metadata": {},
   "outputs": [
    {
     "name": "stdout",
     "output_type": "stream",
     "text": [
      "10\n",
      "10\n"
     ]
    }
   ],
   "source": [
    "# input in python\n",
    "data = input()\n",
    "print(data)"
   ]
  },
  {
   "cell_type": "code",
   "execution_count": 2,
   "metadata": {},
   "outputs": [
    {
     "name": "stdout",
     "output_type": "stream",
     "text": [
      "5\n",
      "1 2 32 2 12\n",
      "49\n"
     ]
    }
   ],
   "source": [
    "# Sometimes code will expect to input details like following:\n",
    "#     Input : \n",
    "# 5\n",
    "# 1 2 3 4 5\n",
    "# Output :\n",
    "# 15\n",
    "\n",
    "# basic method of input output\n",
    "# input N\n",
    "n = int(input())\n",
    "\n",
    "# input the array\n",
    "arr = [int(x) for x in input().split()]\n",
    "\n",
    "# initialize variable\n",
    "summation = 0\n",
    "\n",
    "# calculate sum\n",
    "for x in arr:\n",
    "\tsummation += x\n",
    "\t\n",
    "# print answer\n",
    "print(summation)\n"
   ]
  },
  {
   "cell_type": "code",
   "execution_count": null,
   "metadata": {},
   "outputs": [],
   "source": []
  },
  {
   "cell_type": "code",
   "execution_count": 3,
   "metadata": {},
   "outputs": [
    {
     "name": "stdout",
     "output_type": "stream",
     "text": [
      "1 2 3\n",
      "1 2 3\n"
     ]
    }
   ],
   "source": [
    "import math\n",
    "\n",
    "# Input -> 10 20 monkey\n",
    "a, b, c = input().split(' ')\n",
    "print(a, b, c)"
   ]
  },
  {
   "cell_type": "code",
   "execution_count": 4,
   "metadata": {},
   "outputs": [
    {
     "name": "stdout",
     "output_type": "stream",
     "text": [
      "10 22\n",
      "10 22\n"
     ]
    }
   ],
   "source": [
    "# Input with map -> 10 20\n",
    "a, b = map(int, input().split(' '))\n",
    "print(a, b)"
   ]
  },
  {
   "cell_type": "code",
   "execution_count": 5,
   "metadata": {},
   "outputs": [
    {
     "name": "stdout",
     "output_type": "stream",
     "text": [
      "12,21\n",
      "12 21\n"
     ]
    }
   ],
   "source": [
    "# Input with map -> 10, 20\n",
    "a, b = map(int, input().split(','))\n",
    "print(a, b)\n"
   ]
  },
  {
   "cell_type": "code",
   "execution_count": 6,
   "metadata": {},
   "outputs": [
    {
     "name": "stdout",
     "output_type": "stream",
     "text": [
      "hindi\n",
      "hindi\n"
     ]
    }
   ],
   "source": [
    "# string input\n",
    "n= input()\n",
    "print (n)"
   ]
  },
  {
   "cell_type": "code",
   "execution_count": 7,
   "metadata": {},
   "outputs": [
    {
     "name": "stdout",
     "output_type": "stream",
     "text": [
      "This is a sparta based tech\n",
      "['This', 'is', 'a', 'sparta', 'based', 'tech']\n"
     ]
    }
   ],
   "source": [
    "# taking a variable number of input in string and convert them to a list\n",
    "l = list(input().split())\n",
    "print (l)"
   ]
  },
  {
   "cell_type": "code",
   "execution_count": 8,
   "metadata": {},
   "outputs": [
    {
     "name": "stdout",
     "output_type": "stream",
     "text": [
      "can u repeat and repeat and repeat\n",
      "{'can', 'u', 'repeat', 'and'}\n"
     ]
    }
   ],
   "source": [
    "# taking a variable number of input in string and convert them to a set\n",
    "l = set(input().split())\n",
    "print (l)"
   ]
  },
  {
   "cell_type": "code",
   "execution_count": 9,
   "metadata": {},
   "outputs": [
    {
     "name": "stdout",
     "output_type": "stream",
     "text": [
      "hello 1 2 3 4 5 \n",
      "hello\n",
      "[1, 2, 3, 4, 5]\n"
     ]
    }
   ],
   "source": [
    "# If you want to store the starting values in variables and remaining values in a list then we use * \n",
    "# consider the following examples\n",
    "s,*l = input().split()\n",
    "l = list(map(int,l))\n",
    "print(s)\n",
    "print (l)"
   ]
  },
  {
   "cell_type": "code",
   "execution_count": 10,
   "metadata": {},
   "outputs": [
    {
     "name": "stdout",
     "output_type": "stream",
     "text": [
      "1\n",
      "2\n",
      "3\n",
      "4\n",
      "5\n"
     ]
    }
   ],
   "source": [
    "# output in different lines\n",
    "\n",
    "result = [1,2,3,4,5]\n",
    "for i in result:\n",
    "   print(i)"
   ]
  },
  {
   "cell_type": "code",
   "execution_count": 12,
   "metadata": {},
   "outputs": [
    {
     "name": "stdout",
     "output_type": "stream",
     "text": [
      "1 2 3 4 5 "
     ]
    }
   ],
   "source": [
    "# output in same line\n",
    "\n",
    "result = [1,2,3,4,5]\n",
    "for i in result:\n",
    "   print(i,end=' ')"
   ]
  },
  {
   "cell_type": "code",
   "execution_count": 14,
   "metadata": {},
   "outputs": [
    {
     "name": "stdout",
     "output_type": "stream",
     "text": [
      "36.0\n",
      "45.0\n",
      "{2, 4, 7}\n",
      "{2}\n",
      "{1, 2, 4, 5}\n",
      "{1, 5}\n",
      "1.5\n",
      "1\n",
      "3\n",
      "3628800\n",
      "55\n",
      "5.0\n"
     ]
    }
   ],
   "source": [
    "#  Python has dynamic data type so integers, float are same as variables\n",
    "\n",
    "# Mathematics\n",
    "# Sum Formulas -> 1 + 2 + 3 ... n = n(n+1)/2\n",
    "# Sum Formulas -> 1^k + 2^k + 3^k ... n^k = n(n+1)(2n+1)/6\n",
    "# AP -> a + .. + b = n(a+b)/2\n",
    "# GP -> a + ak + ak^2 + .. + b = (bk -a) / (k - 1)\n",
    "ap = [3, 7, 11, 15]\n",
    "print(4*(3+15)/2)\n",
    "\n",
    "gp = [3, 6, 12, 24] # k is 2 here\n",
    "print((24*2 - 3)/(2-1))\n",
    "\n",
    "# Set\n",
    "x = set([2, 4, 7])\n",
    "a = set([1, 2, 5])\n",
    "b = set([2, 4])\n",
    "print(x)\n",
    "print(a.intersection(b))\n",
    "print(a.union(b))\n",
    "print(a.difference(b))\n",
    "\n",
    "# Functions\n",
    "print(3/2)\n",
    "print(min([1, 2, 3]))\n",
    "print(max([1, 2, 3]))\n",
    "print(math.factorial(10))\n",
    "\n",
    "# Not memoized\n",
    "def fibo(n):\n",
    "    if n == 0:\n",
    "        return 0\n",
    "    if n == 1:\n",
    "        return 1\n",
    "    return fibo(n-1) + fibo(n-2)\n",
    "\n",
    "print(fibo(10))\n",
    "\n",
    "# Logarithms\n",
    "# logk(a, b) = logk(a) + logk(b)\n",
    "# logk(x^n) = n * logk(x)\n",
    "# logk(a/b) = logk(a) - logk(b)\n",
    "# logu(x) = logk(x) / logk(u)\n",
    "print(math.log(32, 2))"
   ]
  },
  {
   "cell_type": "code",
   "execution_count": null,
   "metadata": {},
   "outputs": [],
   "source": []
  }
 ],
 "metadata": {
  "kernelspec": {
   "display_name": "Python 3",
   "language": "python",
   "name": "python3"
  },
  "language_info": {
   "codemirror_mode": {
    "name": "ipython",
    "version": 3
   },
   "file_extension": ".py",
   "mimetype": "text/x-python",
   "name": "python",
   "nbconvert_exporter": "python",
   "pygments_lexer": "ipython3",
   "version": "3.6.4"
  }
 },
 "nbformat": 4,
 "nbformat_minor": 2
}
