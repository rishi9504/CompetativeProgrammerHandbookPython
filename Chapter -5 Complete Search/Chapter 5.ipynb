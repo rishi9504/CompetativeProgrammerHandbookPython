{
 "cells": [
  {
   "cell_type": "code",
   "execution_count": 1,
   "metadata": {},
   "outputs": [],
   "source": [
    "# Complete search is a general method that can be used to solve almost any\n",
    "# algorithm problem. The idea is to generate all possible solutions to the problem\n",
    "# using brute force, and then select the best solution or count the number of\n",
    "# solutions, depending on the problem.\n",
    "# Complete search is a good technique if there is enough time to go through\n",
    "# all the solutions, because the search is usually easy to implement and it always\n",
    "# gives the correct answer. If complete search is too slow, other techniques, such as\n",
    "# greedy algorithms or dynamic programming, may be needed.\n"
   ]
  },
  {
   "cell_type": "code",
   "execution_count": 2,
   "metadata": {},
   "outputs": [
    {
     "name": "stdout",
     "output_type": "stream",
     "text": [
      "[[], [4], [3], [3, 4], [2], [2, 4], [2, 3], [2, 3, 4], [1], [1, 4], [1, 3], [1, 3, 4], [1, 2], [1, 2, 4], [1, 2, 3], [1, 2, 3, 4], [0], [0, 4], [0, 3], [0, 3, 4], [0, 2], [0, 2, 4], [0, 2, 3], [0, 2, 3, 4], [0, 1], [0, 1, 4], [0, 1, 3], [0, 1, 3, 4], [0, 1, 2], [0, 1, 2, 4], [0, 1, 2, 3], [0, 1, 2, 3, 4]]\n"
     ]
    }
   ],
   "source": [
    "# recursive subset generation, gives all combinations of a set (not permutations)\n",
    "n = 5\n",
    "subset = []\n",
    "combinations = []\n",
    "\n",
    "\n",
    "def search(k):\n",
    "    if k == n:\n",
    "        # process subset\n",
    "        combinations.append(subset.copy())\n",
    "    else:\n",
    "        search(k + 1)\n",
    "        subset.append(k)\n",
    "        search(k + 1)\n",
    "        subset.pop()\n",
    "\n",
    "\n",
    "search(0)\n",
    "print(combinations)"
   ]
  },
  {
   "cell_type": "code",
   "execution_count": 4,
   "metadata": {},
   "outputs": [
    {
     "name": "stdout",
     "output_type": "stream",
     "text": [
      "[[0, 1, 2, 3, 4], [0, 1, 2, 4, 3], [0, 1, 3, 2, 4], [0, 1, 3, 4, 2], [0, 1, 4, 2, 3], [0, 1, 4, 3, 2], [0, 2, 1, 3, 4], [0, 2, 1, 4, 3], [0, 2, 3, 1, 4], [0, 2, 3, 4, 1], [0, 2, 4, 1, 3], [0, 2, 4, 3, 1], [0, 3, 1, 2, 4], [0, 3, 1, 4, 2], [0, 3, 2, 1, 4], [0, 3, 2, 4, 1], [0, 3, 4, 1, 2], [0, 3, 4, 2, 1], [0, 4, 1, 2, 3], [0, 4, 1, 3, 2], [0, 4, 2, 1, 3], [0, 4, 2, 3, 1], [0, 4, 3, 1, 2], [0, 4, 3, 2, 1], [1, 0, 2, 3, 4], [1, 0, 2, 4, 3], [1, 0, 3, 2, 4], [1, 0, 3, 4, 2], [1, 0, 4, 2, 3], [1, 0, 4, 3, 2], [1, 2, 0, 3, 4], [1, 2, 0, 4, 3], [1, 2, 3, 0, 4], [1, 2, 3, 4, 0], [1, 2, 4, 0, 3], [1, 2, 4, 3, 0], [1, 3, 0, 2, 4], [1, 3, 0, 4, 2], [1, 3, 2, 0, 4], [1, 3, 2, 4, 0], [1, 3, 4, 0, 2], [1, 3, 4, 2, 0], [1, 4, 0, 2, 3], [1, 4, 0, 3, 2], [1, 4, 2, 0, 3], [1, 4, 2, 3, 0], [1, 4, 3, 0, 2], [1, 4, 3, 2, 0], [2, 0, 1, 3, 4], [2, 0, 1, 4, 3], [2, 0, 3, 1, 4], [2, 0, 3, 4, 1], [2, 0, 4, 1, 3], [2, 0, 4, 3, 1], [2, 1, 0, 3, 4], [2, 1, 0, 4, 3], [2, 1, 3, 0, 4], [2, 1, 3, 4, 0], [2, 1, 4, 0, 3], [2, 1, 4, 3, 0], [2, 3, 0, 1, 4], [2, 3, 0, 4, 1], [2, 3, 1, 0, 4], [2, 3, 1, 4, 0], [2, 3, 4, 0, 1], [2, 3, 4, 1, 0], [2, 4, 0, 1, 3], [2, 4, 0, 3, 1], [2, 4, 1, 0, 3], [2, 4, 1, 3, 0], [2, 4, 3, 0, 1], [2, 4, 3, 1, 0], [3, 0, 1, 2, 4], [3, 0, 1, 4, 2], [3, 0, 2, 1, 4], [3, 0, 2, 4, 1], [3, 0, 4, 1, 2], [3, 0, 4, 2, 1], [3, 1, 0, 2, 4], [3, 1, 0, 4, 2], [3, 1, 2, 0, 4], [3, 1, 2, 4, 0], [3, 1, 4, 0, 2], [3, 1, 4, 2, 0], [3, 2, 0, 1, 4], [3, 2, 0, 4, 1], [3, 2, 1, 0, 4], [3, 2, 1, 4, 0], [3, 2, 4, 0, 1], [3, 2, 4, 1, 0], [3, 4, 0, 1, 2], [3, 4, 0, 2, 1], [3, 4, 1, 0, 2], [3, 4, 1, 2, 0], [3, 4, 2, 0, 1], [3, 4, 2, 1, 0], [4, 0, 1, 2, 3], [4, 0, 1, 3, 2], [4, 0, 2, 1, 3], [4, 0, 2, 3, 1], [4, 0, 3, 1, 2], [4, 0, 3, 2, 1], [4, 1, 0, 2, 3], [4, 1, 0, 3, 2], [4, 1, 2, 0, 3], [4, 1, 2, 3, 0], [4, 1, 3, 0, 2], [4, 1, 3, 2, 0], [4, 2, 0, 1, 3], [4, 2, 0, 3, 1], [4, 2, 1, 0, 3], [4, 2, 1, 3, 0], [4, 2, 3, 0, 1], [4, 2, 3, 1, 0], [4, 3, 0, 1, 2], [4, 3, 0, 2, 1], [4, 3, 1, 0, 2], [4, 3, 1, 2, 0], [4, 3, 2, 0, 1], [4, 3, 2, 1, 0]]\n"
     ]
    }
   ],
   "source": [
    "# ===========================================================\n",
    "# recursive permutation generation, always selects n elements\n",
    "n = 5\n",
    "perm = []\n",
    "permutations = []\n",
    "chosen = [0] * n\n",
    "\n",
    "\n",
    "def p_search():\n",
    "    if len(perm) == n:\n",
    "        # process permutation\n",
    "        permutations.append(perm.copy())\n",
    "    else:\n",
    "        for i in range(n):\n",
    "            if chosen[i]: continue\n",
    "            chosen[i] = 1\n",
    "            perm.append(i)\n",
    "            p_search()\n",
    "            chosen[i] = 0\n",
    "            perm.pop()\n",
    "\n",
    "\n",
    "p_search()\n",
    "print(permutations)"
   ]
  },
  {
   "cell_type": "code",
   "execution_count": 6,
   "metadata": {},
   "outputs": [
    {
     "name": "stdout",
     "output_type": "stream",
     "text": [
      "92\n"
     ]
    }
   ],
   "source": [
    "# A backtracking algorithm begins with an empty solution and extends the\n",
    "# solution step by step. The search recursively goes through all different ways how\n",
    "# a solution can be constructed.\n",
    "\n",
    "# We can often optimize backtracking by pruning the search tree. The idea is to\n",
    "# add ”intelligence” to the algorithm so that it will notice as soon as possible if a\n",
    "# partial solution cannot be extended to a complete solution. Such optimizations\n",
    "# can have a tremendous effect on the efficiency of the search.\n",
    "\n",
    "# Meet in the middle is a technique where the search space is divided into two\n",
    "# parts of about equal size. A separate search is performed for both of the parts,\n",
    "# and finally the results of the searches are combined.\n",
    "\n",
    "\n",
    "# backtrack solution to solving n queens on an nxn chessboard\n",
    "n = 8\n",
    "count = [0]\n",
    "column = [0 for _ in range(n)]\n",
    "diag1 = [0 for _ in range(2 * n - 1)]\n",
    "diag2 = [0 for _ in range(2 * n - 1)]\n",
    "\n",
    "\n",
    "def q_search(y):\n",
    "    if y == n:\n",
    "        count[0] += 1\n",
    "        return\n",
    "    for x in range(n):\n",
    "        if column[x] or diag1[x + y] or diag2[x - y + n - 1]: continue\n",
    "        column[x] = diag1[x + y] = diag2[x - y + n - 1] = 1\n",
    "        q_search(y + 1)\n",
    "        column[x] = diag1[x + y] = diag2[x - y + n - 1] = 0\n",
    "\n",
    "\n",
    "q_search(0)\n",
    "print(count[0])"
   ]
  },
  {
   "cell_type": "code",
   "execution_count": null,
   "metadata": {},
   "outputs": [],
   "source": []
  }
 ],
 "metadata": {
  "kernelspec": {
   "display_name": "Python 3",
   "language": "python",
   "name": "python3"
  },
  "language_info": {
   "codemirror_mode": {
    "name": "ipython",
    "version": 3
   },
   "file_extension": ".py",
   "mimetype": "text/x-python",
   "name": "python",
   "nbconvert_exporter": "python",
   "pygments_lexer": "ipython3",
   "version": "3.6.4"
  }
 },
 "nbformat": 4,
 "nbformat_minor": 2
}
