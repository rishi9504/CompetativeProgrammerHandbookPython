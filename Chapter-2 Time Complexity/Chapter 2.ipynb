{
 "cells": [
  {
   "cell_type": "code",
   "execution_count": null,
   "metadata": {},
   "outputs": [],
   "source": [
    "# The time complexity of an algorithm estimates how much time the algorithm will use for some input. The idea is to represent the efficiency as a function\n",
    "# whose parameter is the size of the input. By calculating the time complexity, we\n",
    "# can find out whether the algorithm is fast enough without implementing it.\n",
    "# Calculation rules\n",
    "# The time complexity of an algorithm is denoted O(···) where the three dots\n",
    "# represent some function. Usually, the variable n denotes the input size. For\n",
    "# example, if the input is an array of numbers, n will be the size of the array, and if\n",
    "# the input is a string, n will be the length of the string.\n"
   ]
  },
  {
   "cell_type": "code",
   "execution_count": 1,
   "metadata": {},
   "outputs": [
    {
     "name": "stdout",
     "output_type": "stream",
     "text": [
      "0\n",
      "1\n",
      "2\n",
      "3\n",
      "4\n",
      "5\n"
     ]
    }
   ],
   "source": [
    "# time complexity for this is O(n)\n",
    "for i in range(6):\n",
    "    print (i)"
   ]
  },
  {
   "cell_type": "code",
   "execution_count": 2,
   "metadata": {},
   "outputs": [
    {
     "name": "stdout",
     "output_type": "stream",
     "text": [
      "28\n"
     ]
    }
   ],
   "source": [
    "# time complexity for this is O(n^2)\n",
    "sum = 0\n",
    "for i in range(10):\n",
    "    for j in range(20):\n",
    "        sum=i+j\n",
    "print (sum)        "
   ]
  },
  {
   "cell_type": "code",
   "execution_count": 7,
   "metadata": {},
   "outputs": [
    {
     "name": "stdout",
     "output_type": "stream",
     "text": [
      "55\n"
     ]
    }
   ],
   "source": [
    "# The time complexity of a recursive function depends on the number of times\n",
    "# the function is called and the time complexity of a single call. The total time\n",
    "# complexity is the product of these values.\n",
    "# Program to print the fibonacci series upto n_terms\n",
    "\n",
    "# Recursive function\n",
    "def recursive_fibonacci(n):\n",
    "    if n <= 1:\n",
    "        return n\n",
    "    else:\n",
    "        return(recursive_fibonacci(n-1) + recursive_fibonacci(n-2))\n",
    "\n",
    "n_terms = 10\n",
    "\n",
    "print (recursive_fibonacci(n_terms))\n"
   ]
  },
  {
   "cell_type": "code",
   "execution_count": 19,
   "metadata": {},
   "outputs": [],
   "source": [
    "# Given an array of n numbers, our task is to calculate the maximum subarray sum, i.e.,\n",
    "# the largest possible sum of a sequence of consecutive values in the array.\n",
    "# The problem is interesting when there may be negative values in the array\n",
    "\n",
    "arr = [-1, 2, 4, -3, 5, 2, -5, 2]"
   ]
  },
  {
   "cell_type": "code",
   "execution_count": 23,
   "metadata": {},
   "outputs": [
    {
     "name": "stdout",
     "output_type": "stream",
     "text": [
      "10\n"
     ]
    }
   ],
   "source": [
    "# A straightforward way to solve the problem is to go through all possible subarrays,\n",
    "# calculate the sum of values in each subarray and maintain the maximum sum.\n",
    "# The following code implements this algorithm:\n",
    "best = 0\n",
    "for i in arr:\n",
    "\tfor j in arr:\n",
    "\t\tsum = 0\n",
    "\t\tfor k in range(j):\n",
    "\t\t\tsum += k\n",
    "\t\tbest = max(best, sum)\n",
    "print(best)\n",
    "\n",
    "# The time complexity of the algorithm is O(n^3), because it consists of three\n",
    "# nested loops that go through the input.\n"
   ]
  },
  {
   "cell_type": "code",
   "execution_count": 21,
   "metadata": {},
   "outputs": [
    {
     "name": "stdout",
     "output_type": "stream",
     "text": [
      "10\n"
     ]
    }
   ],
   "source": [
    "# It is easy to make Algorithm 1 more efficient by removing one loop from it. This\n",
    "# is possible by calculating the sum at the same time when the right end of the\n",
    "# subarray moves.\n",
    "arr1 = [-1, 2, 4, -3, 5, 2, -5, 2]\n",
    "# O(n^2) solution\n",
    "import math\n",
    "def maxSubArray(arr):\n",
    "  maximum = -math.inf\n",
    "  for i in range(0, len(arr)):\n",
    "    sum=0\n",
    "    for j in range(i, len(arr)):\n",
    "      sum += arr[j]\n",
    "      maximum = max(sum, maximum) #compare the resulting sum with the existing maximum value\n",
    "  return maximum \n",
    "print (maxSubArray(arr1))"
   ]
  },
  {
   "cell_type": "code",
   "execution_count": 22,
   "metadata": {},
   "outputs": [
    {
     "name": "stdout",
     "output_type": "stream",
     "text": [
      "10\n"
     ]
    }
   ],
   "source": [
    "# O(n) solution\n",
    "best, sum = 0, 0\n",
    "for i in arr:\n",
    "\tsum = max(i, sum + i)\n",
    "\tbest = max(best, sum)\n",
    "print(best)"
   ]
  },
  {
   "cell_type": "code",
   "execution_count": null,
   "metadata": {},
   "outputs": [],
   "source": []
  }
 ],
 "metadata": {
  "kernelspec": {
   "display_name": "Python 3",
   "language": "python",
   "name": "python3"
  },
  "language_info": {
   "codemirror_mode": {
    "name": "ipython",
    "version": 3
   },
   "file_extension": ".py",
   "mimetype": "text/x-python",
   "name": "python",
   "nbconvert_exporter": "python",
   "pygments_lexer": "ipython3",
   "version": "3.6.4"
  }
 },
 "nbformat": 4,
 "nbformat_minor": 2
}
