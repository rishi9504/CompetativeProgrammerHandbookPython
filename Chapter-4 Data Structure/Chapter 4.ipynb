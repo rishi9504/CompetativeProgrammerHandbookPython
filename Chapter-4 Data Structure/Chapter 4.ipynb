{
 "cells": [
  {
   "cell_type": "code",
   "execution_count": 1,
   "metadata": {},
   "outputs": [],
   "source": [
    "# A data structure is a way to store data in the memory of a computer. It is\n",
    "# important to choose an appropriate data structure for a problem, because each\n",
    "# data structure has its own advantages and disadvantages."
   ]
  },
  {
   "cell_type": "code",
   "execution_count": 2,
   "metadata": {},
   "outputs": [
    {
     "name": "stdout",
     "output_type": "stream",
     "text": [
      "[1, 2, 3, 4]\n",
      "[1, 2, 3, 4, 1]\n"
     ]
    }
   ],
   "source": [
    "# # A dynamic array is an array whose size can be changed during the execution of\n",
    "# # the program.\n",
    "# The one big point of difference of how arrays are implemented in Python is that they’re not normal arrays,\n",
    "# they’re dynamic arrays.\n",
    "\n",
    "# A dynamic array has the property of auto-resizing. The arrays we define no longer need to be of fixed size,\n",
    "# the number of elements we have in them can change(increase or decrease) anytime.\n",
    "# Thus, it means that we can add or delete elements dynamically.\n",
    "# Data Structures\n",
    "\n",
    "# Arrays\n",
    "arr = [1, 2, 3, 4, 5, 6]\n",
    "arr.pop()\n",
    "arr.pop()\n",
    "print(arr)\n",
    "\n",
    "arr.append(1)\n",
    "print(arr)"
   ]
  },
  {
   "cell_type": "code",
   "execution_count": 12,
   "metadata": {},
   "outputs": [
    {
     "name": "stdout",
     "output_type": "stream",
     "text": [
      "{'test1', 'banana', 'test', 'pear'}\n",
      "set()\n",
      "{'orange', 'banana', 'apple', 'pear'}\n",
      "{'pear', 'apple', 'orange', 'test', 'banana'}\n",
      "pear\n",
      "None\n",
      "{'apple', 'orange', 'banana'}\n",
      "{'orange', 'test1', 'test', 'pear', 'banana', 'apple'}\n",
      "{'banana'}\n",
      "None\n"
     ]
    }
   ],
   "source": [
    "# A set is a data structure that maintains a collection of elements. The basic\n",
    "# operations of sets are element insertion, search and removal.\n",
    "\n",
    "# Set\n",
    "basket = {'apple', 'orange', 'apple', 'pear', 'orange', 'banana'} \n",
    "casket = {\"banana\",\"test\",\"test1\",\"pear\"}\n",
    "casketcopy = casket.copy() # Returns a copy of the set\n",
    "print(casketcopy)\n",
    "casketcopy.clear() # Removes all the elements from the set\n",
    "print(casketcopy)\n",
    "print(basket)\n",
    "basket.add(\"test\")  #add an element to the set\n",
    "print(basket)\n",
    "\n",
    "print (basket.pop()) # removes last element\n",
    "print (basket.remove(\"test\")) # removes specific element\n",
    "print (basket) # print the updated basket\n",
    "\n",
    "print (basket.union(casket)) # union of the sets\n",
    "\n",
    "print (basket.intersection(casket))\n",
    "print (basket.intersection_update(casket))"
   ]
  },
  {
   "cell_type": "code",
   "execution_count": 24,
   "metadata": {},
   "outputs": [
    {
     "name": "stdout",
     "output_type": "stream",
     "text": [
      "{'brand': 'Ford', 'model': 'Mustang', 'year': 1964}\n",
      "Ford\n",
      "{'brand': 'Ford', 'model': 'Mustang', 'year': 2020}\n",
      "None\n",
      "{'brand': 'Ford', 'model': 'Mustang', 'year': 2020}\n",
      "Ford\n",
      "dict_items([('brand', 'Ford'), ('model', 'Mustang'), ('year', 2020)])\n",
      "dict_keys(['brand', 'model', 'year'])\n",
      "Ford\n",
      "('year', 2020)\n",
      "Ford\n",
      "None\n",
      "{'brand': 'Ford', 'model': 'Mustang', 'year': 2020, 'color': 'white'}\n"
     ]
    }
   ],
   "source": [
    "# A map is a generalized array that consists of key-value-pairs. While the keys in\n",
    "# an ordinary array are always the consecutive integers 0,1,...,n−1, where n is\n",
    "# the size of the array, the keys in a map can be of any data type and they do not\n",
    "# have to be consecutive values.\n",
    "\n",
    "# In Python Dictionaries are used to store data values in key:value pairs.\n",
    "\n",
    "# A dictionary is a collection which is ordered*, changeable and do not allow duplicates.\n",
    "\n",
    "thisdict = {\n",
    "  \"brand\": \"Ford\",\n",
    "  \"model\": \"Mustang\",\n",
    "  \"year\": 1964\n",
    "}\n",
    "print(thisdict)\n",
    "\n",
    "# print a specific item\n",
    "\n",
    "print(thisdict[\"brand\"])\n",
    "\n",
    "# As of Python version 3.7, dictionaries are ordered. In Python 3.6 and earlier, dictionaries are unordered.\n",
    "\n",
    "# When we say that dictionaries are ordered, it means that the items have a defined order, and that order will not change.\n",
    "\n",
    "# Unordered means that the items does not have a defined order, you cannot refer to an item by using an index.\n",
    "\n",
    "# Duplicate values will overwrite existing values:\n",
    "\n",
    "thisdict = {\n",
    "  \"brand\": \"Ford\",\n",
    "  \"model\": \"Mustang\",\n",
    "  \"year\": 1964,\n",
    "  \"year\": 2020\n",
    "}\n",
    "print(thisdict)\n",
    "\n",
    "\n",
    "\n",
    "\n",
    "\n",
    "\n",
    "\n",
    "\n",
    "# update() Updates the dictionary with the specified key-value pairs\n",
    "\n",
    "# values()\tReturns a list of all the values in the dictionary\n",
    "\n",
    "print(thisdict.clear()) # clear()\tRemoves all the elements from the dictionary\n",
    "thisdict = {\n",
    "  \"brand\": \"Ford\",\n",
    "  \"model\": \"Mustang\",\n",
    "  \"year\": 1964,\n",
    "  \"year\": 2020\n",
    "}\n",
    "thatdict = thisdict.copy() # copy()\tReturns a copy of the dictionary\n",
    "print(thatdict)\n",
    "\n",
    "print(thatdict.get(\"brand\")) # get()\tReturns the value of the specified key\n",
    "\n",
    "print(thatdict.items()) # items()\tReturns a list containing a tuple for each key value pair\n",
    "\n",
    "print (thatdict.keys()) # keys()\tReturns a list containing the dictionary's keys\n",
    "\n",
    "print (thatdict.pop(\"brand\"))\n",
    "\n",
    "print (thatdict.popitem()) # popitem()\tRemoves the last inserted key-value pair \n",
    "\n",
    "thatdict = thisdict.copy() \n",
    "\n",
    "print (thatdict.setdefault(\"brand\")) # setdefault()\tReturns the value of the specified key. \n",
    "# If the key does not exist: insert the key, with the specified value\n",
    "\n",
    "print (thatdict.update({\"color\":\"white\"}))\n",
    "\n",
    "print (thatdict)"
   ]
  },
  {
   "cell_type": "code",
   "execution_count": 28,
   "metadata": {},
   "outputs": [
    {
     "name": "stdout",
     "output_type": "stream",
     "text": [
      "deque(['name', 'age', 'DOB'])\n",
      "None\n",
      "deque(['name', 'age', 'DOB', 'year'])\n",
      "None\n",
      "deque(['test', 'name', 'age', 'DOB', 'year'])\n",
      "1\n"
     ]
    }
   ],
   "source": [
    "# # A deque is a dynamic array whose size can be efficiently changed at both ends of\n",
    "# # the array\n",
    "# Deque (Doubly \n",
    "\n",
    "# Ended Queue) in Python is implemented using the module “collections“.\n",
    "# Deque is preferred over a list in the cases where we need quicker append and pop operations \n",
    "# from both the ends of the container, as deque provides an O(1) time complexity\n",
    "# for append and pop operations as compared to a list that provides O(n) time complexity.\n",
    "\n",
    "\n",
    "\n",
    "from collections import deque\n",
    "\t\n",
    "# Declaring deque\n",
    "queue = deque(['name','age','DOB'])\n",
    "\t\n",
    "print(queue)\n",
    "\n",
    "print (queue.append('year')) # add an element in deque\n",
    "\n",
    "print (queue)\n",
    "\n",
    "print(queue.appendleft('test')) # append element to the left\n",
    "\n",
    "print (queue)\n",
    "\n",
    "print (queue.count('year')) # count number of times an element is in the deque\n",
    "\n"
   ]
  },
  {
   "cell_type": "code",
   "execution_count": null,
   "metadata": {},
   "outputs": [],
   "source": []
  }
 ],
 "metadata": {
  "kernelspec": {
   "display_name": "Python 3",
   "language": "python",
   "name": "python3"
  },
  "language_info": {
   "codemirror_mode": {
    "name": "ipython",
    "version": 3
   },
   "file_extension": ".py",
   "mimetype": "text/x-python",
   "name": "python",
   "nbconvert_exporter": "python",
   "pygments_lexer": "ipython3",
   "version": "3.6.4"
  }
 },
 "nbformat": 4,
 "nbformat_minor": 2
}
